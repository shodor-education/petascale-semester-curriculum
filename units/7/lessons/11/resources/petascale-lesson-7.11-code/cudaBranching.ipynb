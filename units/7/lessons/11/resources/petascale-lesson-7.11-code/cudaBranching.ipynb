{
 "cells": [
  {
   "cell_type": "code",
   "execution_count": null,
   "metadata": {
    "colab": {
     "base_uri": "https://localhost:8080/",
     "height": 34
    },
    "colab_type": "code",
    "id": "RE6N2bdFRxvb",
    "outputId": "f7123207-c3f3-43f4-bdb5-7d5d806157f4"
   },
   "outputs": [
    {
     "name": "stdout",
     "output_type": "stream",
     "text": [
      "Overwriting branching.cu\n"
     ]
    }
   ],
   "source": [
    "%%writefile branching.cu\n",
    "// branching.cu\n",
    "// loosely derived from\n",
    "//     http://gpuray.blogspot.com/2009/07/cuda-warps-and-branching.html\n",
    "#include <stdio.h>\n",
    "\n",
    "#define WORK 320000\n",
    "#define threadsPerBlock 320\n",
    "\n",
    "__global__ void branching(int n)\n",
    "{\n",
    "    \n",
    " int threadMod = threadIdx.x%threadsPerBlock;\n",
    "\n",
    " if ( threadMod < n)\n",
    "  for (int i=0; i < WORK; i++){\n",
    "   double theta1 = sin((double)i / 14);\n",
    "   double theta2 = sin((double)(i + 2) / 13);\n",
    "   double theta3 = fmax(theta1, theta2);\n",
    "   double theta4 = cos( sqrt (100.0 * theta3) );\n",
    "   double theta5 = pow ( theta3, theta4 );\n",
    "  }\n",
    " else if(threadMod<2*n)\n",
    "  for (int i=0; i < WORK; i++){\n",
    "   double theta1 = sin((double)i / 15);\n",
    "   double theta2 = sin((double)(i + 1) / 15);\n",
    "   double theta3 = fmax(theta1, theta2);\n",
    "   double theta4 = cos( sqrt (10.0 * theta3) );\n",
    "   double theta5 = pow ( theta3, theta4 );\n",
    "  }\n",
    " else if(threadMod<3*n)\n",
    "  for (int i=0; i < WORK; i++){\n",
    "   double theta1 = sin((double)i / 17);\n",
    "   double theta2 = sin((double)(i + 9) / 13);\n",
    "   double theta3 = fmax(theta1, theta2);\n",
    "   double theta4 = cos( sqrt (20.0 * theta3) );\n",
    "   double theta5 = pow ( theta3, theta4 );\n",
    "  }\n",
    " else if(threadMod<4*n)\n",
    "  for (int i=0; i < WORK; i++){\n",
    "   double theta1 = sin((double)i / 12);\n",
    "   double theta2 = sin((double)(i + 5) / 12);\n",
    "   double theta3 = fmax(theta1, theta2);\n",
    "   double theta4 = cos( sqrt (30.0 * theta3) );\n",
    "   double theta5 = pow ( theta3, theta4 );\n",
    "  }\n",
    " }\n",
    "\n",
    "\n",
    "int main(int argc, char ** argv) {\n",
    "\n",
    "    float time;\n",
    "    cudaEvent_t start, stop;\n",
    "\n",
    "    // run and time with all 32 threads in warp doing same thing\n",
    "    cudaEventCreate(&start);\n",
    "    cudaEventCreate(&stop);\n",
    "    cudaEventRecord(start, 0);\n",
    "    branching<<<1,threadsPerBlock>>>(32);\n",
    "    cudaEventRecord(stop, 0);\n",
    "    cudaEventSynchronize(stop);\n",
    "    cudaEventElapsedTime(&time, start, stop);\n",
    "    printf(\"Time to generate:  %3.1f ms \\n\", time);\n",
    "\n",
    "   // half the threads in warp do one thing, half another\n",
    "    cudaEventCreate(&start);\n",
    "    cudaEventCreate(&stop);\n",
    "    cudaEventRecord(start, 0);\n",
    "    branching<<<1,threadsPerBlock>>>(16);\n",
    "    cudaEventRecord(stop, 0);\n",
    "    cudaEventSynchronize(stop);\n",
    "    cudaEventElapsedTime(&time, start, stop);\n",
    "    printf(\"Time to generate:  %3.1f ms \\n\", time);\n",
    "\n",
    "    // 1/4 of the threads each do different things\n",
    "    cudaEventCreate(&start);\n",
    "    cudaEventCreate(&stop);\n",
    "    cudaEventRecord(start, 0);\n",
    "    branching<<<1,threadsPerBlock>>>(8);\n",
    "    cudaEventRecord(stop, 0);\n",
    "    cudaEventSynchronize(stop);\n",
    "    cudaEventElapsedTime(&time, start, stop);\n",
    "    printf(\"Time to generate:  %3.1f ms \\n\", time);\n",
    "}\n",
    "\n"
   ]
  },
  {
   "cell_type": "code",
   "execution_count": null,
   "metadata": {
    "colab": {
     "base_uri": "https://localhost:8080/",
     "height": 34
    },
    "colab_type": "code",
    "id": "jEWBfInVSJzk",
    "outputId": "00e1796c-9aa9-480c-d5ce-6c6c273272c2"
   },
   "outputs": [
    {
     "name": "stdout",
     "output_type": "stream",
     "text": [
      "a.out  branching  branching.cu\tbranching_student.cu  sample_data\n"
     ]
    }
   ],
   "source": [
    "!nvcc -o branching branching.cu\n",
    "!ls"
   ]
  },
  {
   "cell_type": "code",
   "execution_count": null,
   "metadata": {
    "colab": {
     "base_uri": "https://localhost:8080/",
     "height": 136
    },
    "colab_type": "code",
    "id": "DUwEOKPsSNFq",
    "outputId": "921b2b83-1c84-4fec-9ab0-1dba695ac182"
   },
   "outputs": [
    {
     "name": "stdout",
     "output_type": "stream",
     "text": [
      "Time to generate:  1059.6 ms \n",
      "Time to generate:  1225.4 ms \n",
      "Time to generate:  2278.6 ms \n",
      "\n",
      "real\t0m4.741s\n",
      "user\t0m2.405s\n",
      "sys\t0m2.320s\n"
     ]
    }
   ],
   "source": [
    "!time ./branching\n"
   ]
  },
  {
   "cell_type": "code",
   "execution_count": null,
   "metadata": {
    "colab": {
     "base_uri": "https://localhost:8080/",
     "height": 34
    },
    "colab_type": "code",
    "id": "ZOutEU2USP20",
    "outputId": "78c2bc8d-9bc4-4375-e3e1-3f50b61ec7ad"
   },
   "outputs": [
    {
     "name": "stdout",
     "output_type": "stream",
     "text": [
      "Overwriting branching_student.cu\n"
     ]
    }
   ],
   "source": [
    "%%writefile branching_student.cu\n",
    "// branching.cu\n",
    "// loosely derived from\n",
    "//     http://gpuray.blogspot.com/2009/07/cuda-warps-and-branching.html\n",
    "#include <stdio.h>\n",
    "\n",
    "#define WORK 320000\n",
    "#define threadsPerBlock 320\n",
    "\n",
    "__global__ void branching(int n)\n",
    "{\n",
    "    \n",
    " int threadMod = threadIdx.x%threadsPerBlock;\n",
    "\n",
    " if ( threadMod < n)\n",
    "  for (int i=0; i < WORK; i++){\n",
    "   double theta1 = sin((double)i / 14);\n",
    "   double theta2 = sin((double)(i + 2) / 13);\n",
    "   double theta3 = fmax(theta1, theta2);\n",
    "   double theta4 = cos( sqrt (100.0 * theta3) );\n",
    "   double theta5 = pow ( theta3, theta4 );\n",
    "  }\n",
    " else if(threadMod<2*n)\n",
    "  for (int i=0; i < WORK; i++){\n",
    "   double theta1 = sin((double)i / 15);\n",
    "   double theta2 = sin((double)(i + 1) / 15);\n",
    "   double theta3 = fmax(theta1, theta2);\n",
    "   double theta4 = cos( sqrt (10.0 * theta3) );\n",
    "   double theta5 = pow ( theta3, theta4 );\n",
    "  }\n",
    " else if(threadMod<3*n)\n",
    "  for (int i=0; i < WORK; i++){\n",
    "   double theta1 = sin((double)i / 17);\n",
    "   double theta2 = sin((double)(i + 9) / 13);\n",
    "   double theta3 = fmax(theta1, theta2);\n",
    "   double theta4 = cos( sqrt (20.0 * theta3) );\n",
    "   double theta5 = pow ( theta3, theta4 );\n",
    "  }\n",
    " else if(threadMod<4*n)\n",
    "  for (int i=0; i < WORK; i++){\n",
    "   double theta1 = sin((double)i / 12);\n",
    "   double theta2 = sin((double)(i + 5) / 12);\n",
    "   double theta3 = fmax(theta1, theta2);\n",
    "   double theta4 = cos( sqrt (30.0 * theta3) );\n",
    "   double theta5 = pow ( theta3, theta4 );\n",
    "  }\n",
    " }\n",
    "\n",
    "\n",
    "int main(int argc, char ** argv) {\n",
    "\n",
    "    float time;\n",
    "    cudaEvent_t start, stop;\n",
    "    int nBreak = 32;\n",
    "\n",
    "    printf(\"USAGE: ./branching_student [-n nBreak (default 32)]\");\n",
    "\n",
    "    if(argc>1) {\n",
    "        sscanf(argv[1],\"%d\",&nBreak);\n",
    "    }\n",
    "    if(nBreak>32 || nBreak<8) {\n",
    "        printf(\"Example code is designed to be used with 8 <= nBreak <= 32 \\n\");\n",
    "        exit(0);\n",
    "    }\n",
    "\n",
    "    // run and time with all 32 threads in warp doing same thing\n",
    "    cudaEventCreate(&start);\n",
    "    cudaEventCreate(&stop);\n",
    "    cudaEventRecord(start, 0);\n",
    "    branching<<<1,threadsPerBlock>>>(nBreak);\n",
    "    cudaEventRecord(stop, 0);\n",
    "    cudaEventSynchronize(stop);\n",
    "    cudaEventElapsedTime(&time, start, stop);\n",
    "    printf(\"Time to generate:  %3.1f ms \\n\", time);\n",
    "\n",
    " \n",
    "}"
   ]
  },
  {
   "cell_type": "code",
   "execution_count": null,
   "metadata": {
    "colab": {
     "base_uri": "https://localhost:8080/",
     "height": 51
    },
    "colab_type": "code",
    "id": "gkHxh2qCv-fl",
    "outputId": "67084db9-1542-47bc-f640-15b9255fd834"
   },
   "outputs": [
    {
     "name": "stdout",
     "output_type": "stream",
     "text": [
      "a.out\t   branching.cu       branching_student.cu\n",
      "branching  branching_student  sample_data\n"
     ]
    }
   ],
   "source": [
    "!nvcc -o branching_student branching_student.cu\n",
    "!ls"
   ]
  },
  {
   "cell_type": "code",
   "execution_count": null,
   "metadata": {
    "colab": {
     "base_uri": "https://localhost:8080/",
     "height": 34
    },
    "colab_type": "code",
    "id": "oCz9E7CnwJM6",
    "outputId": "6403035e-fb57-4da5-880d-7251e0c6513b"
   },
   "outputs": [
    {
     "name": "stdout",
     "output_type": "stream",
     "text": [
      "USAGE: ./branching_student [-n nBreak (default 32)]Example code is designed to be used with 8 <= nBreak <= 32 \n"
     ]
    }
   ],
   "source": [
    "!./branching_student 33"
   ]
  },
  {
   "cell_type": "code",
   "execution_count": null,
   "metadata": {
    "colab": {},
    "colab_type": "code",
    "id": "sSQN-9STwLx3"
   },
   "outputs": [],
   "source": []
  }
 ],
 "metadata": {
  "accelerator": "GPU",
  "colab": {
   "name": "cudaBranching.ipynb",
   "provenance": []
  },
  "kernelspec": {
   "display_name": "Python 3",
   "language": "python",
   "name": "python3"
  },
  "language_info": {
   "codemirror_mode": {
    "name": "ipython",
    "version": 3
   },
   "file_extension": ".py",
   "mimetype": "text/x-python",
   "name": "python",
   "nbconvert_exporter": "python",
   "pygments_lexer": "ipython3",
   "version": "3.7.4"
  }
 },
 "nbformat": 4,
 "nbformat_minor": 1
}
