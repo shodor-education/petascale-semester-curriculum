{
 "cells": [
  {
   "cell_type": "code",
   "execution_count": 1,
   "metadata": {},
   "outputs": [],
   "source": [
    "#Source code reference: https://numba.pydata.org/numba-doc/latest/cuda/examples.html#matrix-multiplication\n",
    "#Source code reference: https://nyu-cds.github.io/python-numba/\n",
    "#This is a jupyter notebook file, \n",
    "#To run this file, install jupyter notebook (https://jupyter.readthedocs.io/en/latest/install.html)\n",
    "#Open jupyter notebook, open the file and run it\n",
    "\n",
    "from numba import cuda, float32\n",
    "import numpy\n",
    "import numba\n",
    "import math\n",
    "\n",
    "# Controls threads per block and shared memory usage.\n",
    "# The computation will be done on blocks of TPBxTPB elements.\n",
    "TPB = 16\n",
    "\n",
    "@cuda.jit\n",
    "def kernel_op(A, B, C):\n",
    "\n",
    "    #cuda.grid returns the absolute position of the current thread in the entire grid of blocks\n",
    "    x = cuda.grid(1)\n",
    "\n",
    "    if x >= C.shape[0] :\n",
    "        # Quit if (x, y) is outside of valid C boundary\n",
    "        return\n",
    "\n",
    "    # Each thread computes one element in the result matrix.\n",
    "    C[x]=A[x]+B[x]\n"
   ]
  },
  {
   "cell_type": "code",
   "execution_count": 6,
   "metadata": {
    "scrolled": true
   },
   "outputs": [],
   "source": [
    "\n",
    "# Initialite the data array\n",
    "A = numpy.ones(48, dtype = float)\n",
    "B = numpy.ones(48, dtype =float)\n",
    "\n",
    "#copy the host variables to device\n",
    "A_global_mem = cuda.to_device(A)\n",
    "B_global_mem = cuda.to_device(B)\n",
    "\n",
    "#Create memory for C in device\n",
    "C_global_mem = cuda.device_array((48)) \n",
    "\n",
    "# Configure the blocks\n",
    "threadsperblock = TPB\n",
    "blockspergrid_x = int(math.ceil(len(A) / threadsperblock))\n"
   ]
  },
  {
   "cell_type": "code",
   "execution_count": 7,
   "metadata": {
    "scrolled": true
   },
   "outputs": [],
   "source": [
    "# Start the kernel \n",
    "kernel_op[blockspergrid_x, threadsperblock](A_global_mem, B_global_mem, C_global_mem)\n",
    "#copy the result to CPU\n",
    "res = C_global_mem.copy_to_host()"
   ]
  },
  {
   "cell_type": "code",
   "execution_count": 8,
   "metadata": {},
   "outputs": [
    {
     "data": {
      "text/plain": [
       "array([2., 2., 2., 2., 2., 2., 2., 2., 2., 2., 2., 2., 2., 2., 2., 2., 2.,\n",
       "       2., 2., 2., 2., 2., 2., 2., 2., 2., 2., 2., 2., 2., 2., 2., 2., 2.,\n",
       "       2., 2., 2., 2., 2., 2., 2., 2., 2., 2., 2., 2., 2., 2.])"
      ]
     },
     "execution_count": 8,
     "metadata": {},
     "output_type": "execute_result"
    }
   ],
   "source": [
    "res\n"
   ]
  },
  {
   "cell_type": "code",
   "execution_count": 9,
   "metadata": {
    "scrolled": true
   },
   "outputs": [
    {
     "data": {
      "text/plain": [
       "96.0"
      ]
     },
     "execution_count": 9,
     "metadata": {},
     "output_type": "execute_result"
    }
   ],
   "source": [
    "numpy.sum(res)"
   ]
  },
  {
   "cell_type": "code",
   "execution_count": null,
   "metadata": {},
   "outputs": [],
   "source": []
  },
  {
   "cell_type": "code",
   "execution_count": null,
   "metadata": {},
   "outputs": [],
   "source": []
  }
 ],
 "metadata": {
  "kernelspec": {
   "display_name": "Python 3",
   "language": "python",
   "name": "python3"
  },
  "language_info": {
   "codemirror_mode": {
    "name": "ipython",
    "version": 3
   },
   "file_extension": ".py",
   "mimetype": "text/x-python",
   "name": "python",
   "nbconvert_exporter": "python",
   "pygments_lexer": "ipython3",
   "version": "3.7.3"
  }
 },
 "nbformat": 4,
 "nbformat_minor": 2
}
