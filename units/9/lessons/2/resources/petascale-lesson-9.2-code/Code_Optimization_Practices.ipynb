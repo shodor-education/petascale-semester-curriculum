{
 "cells": [
  {
   "cell_type": "markdown",
   "metadata": {},
   "source": [
    "# Blue Waters Petascale Semester Curriculum v1.0\n",
    "## Unit 9: Optimization\n",
    "## Lesson 2: Code Optimization Patterns\n",
    "### File: Code_Optimization_Practices.ipynb\n",
    "#### Developed by David A. Joiner for the Shodor Education Foundation, Inc.\n",
    "*Except where otherwise noted, this work by The Shodor Education Foundation, Inc. is licensed under CC BY-SA 4.0. To view a copy of this license, visit https://creativecommons.org/licenses/by-sa/4.0*\n",
    "\n",
    "*Browse and search the full curriculum at http://shodor.org/petascale/materials/semester-curriculum*\n",
    " \n",
    "*We welcome your improvements! You can submit your proposed changes to this material and the rest of the curriculum in our GitHub repository at https://github.com/shodor-education/petascale-semester-curriculum*\n",
    "\n",
    "*We want to hear from you! Please let us know your experiences using this material by sending email to petascale@shodor.org*"
   ]
  },
  {
   "cell_type": "markdown",
   "metadata": {
    "colab_type": "text",
    "id": "VIN-JpNupWWN"
   },
   "source": [
    "#Optimization Examples\n",
    "\n",
    "This notebook is designed to run in Google Colab, compiling and executing code on the underlying virtual machine. To run the notebook, open it in Google Colab and execute each cell with \"shift+enter\" or by pressing the cells run button.\n",
    "\n",
    "You can also copy and paste the code into other machines for testing."
   ]
  },
  {
   "cell_type": "markdown",
   "metadata": {
    "colab_type": "text",
    "id": "Oy0NVZYmnlWZ"
   },
   "source": [
    "Note, each of these examples may run different on different machines. In particular, references to static memory allocation have been removed from a prior version of this example due to the greater restrictions on stack memory in many of the virtual machines that students may encounter. The example comparing static to dynamic memory allocation has been left in its original form, but its ability to run without a segmentation fault may depend on the stack size limits and available memory on the systems being used."
   ]
  },
  {
   "cell_type": "code",
   "execution_count": 1,
   "metadata": {
    "colab": {},
    "colab_type": "code",
    "id": "7RXyT1VOlAyI"
   },
   "outputs": [],
   "source": [
    "!ulimit -s unlimited"
   ]
  },
  {
   "cell_type": "markdown",
   "metadata": {
    "colab_type": "text",
    "id": "qhJCO33Jew2E"
   },
   "source": [
    "Passing arrays to functions, or calling functions while looping through an array.\n",
    "\n",
    "Instructor: Note to students that this is a measure of the cost of function call overhead within loops. The array size may have an impact on the difference you will see"
   ]
  },
  {
   "cell_type": "code",
   "execution_count": 2,
   "metadata": {
    "colab": {
     "base_uri": "https://localhost:8080/",
     "height": 34
    },
    "colab_type": "code",
    "id": "1vynS0pciVjD",
    "outputId": "31f39181-455e-4fbb-c3ec-3a2717ceaeed"
   },
   "outputs": [
    {
     "name": "stdout",
     "output_type": "stream",
     "text": [
      "Writing arraystride.c\n"
     ]
    }
   ],
   "source": [
    "%%writefile arraystride.c\n",
    "/* Blue Waters Petascale Semester Curriculum v1.0\n",
    " * Unit 9: Optimization\n",
    " * Lesson 2: Code Optimization Patterns\n",
    " * File: arraystride.c\n",
    " * Developed by David A. Joiner for the Shodor Education Foundation, Inc.\n",
    " *\n",
    " * Copyright (c) 2020 The Shodor Education Foundation, Inc.\n",
    " *\n",
    " * Browse and search the full curriculum at\n",
    " * <http://shodor.org/petascale/materials/semester-curriculum>.\n",
    " *\n",
    " * We welcome your improvements! You can submit your proposed changes to this\n",
    " * material and the rest of the curriculum in our GitHub repository at\n",
    " * <https://github.com/shodor-education/petascale-semester-curriculum>.\n",
    " *\n",
    " * We want to hear from you! Please let us know your experiences using this\n",
    " * material by sending email to petascale@shodor.org\n",
    " *\n",
    " * This program is free software: you can redistribute it and/or modify\n",
    " * it under the terms of the GNU Affero General Public License as published\n",
    " * by the Free Software Foundation, either version 3 of the License, or\n",
    " * (at your option) any later version.\n",
    " *\n",
    " * This program is distributed in the hope that it will be useful,\n",
    " * but WITHOUT ANY WARRANTY; without even the implied warranty of\n",
    " * MERCHANTABILITY or FITNESS FOR A PARTICULAR PURPOSE.  See the\n",
    " * GNU Affero General Public License for more details.\n",
    " *\n",
    " * You should have received a copy of the GNU Affero General Public License\n",
    " * along with this program.  If not, see <https://www.gnu.org/licenses/>.\n",
    " */\n",
    "\n",
    "#include <stdio.h>\n",
    "#include <time.h>\n",
    "#include <stdlib.h>\n",
    "\n",
    "#define N 10000\n",
    "\n",
    "int ** alloc_imatrix(int ncol, int nrow) {\n",
    "    int *row;\n",
    "    int **matrix; \n",
    "    int i; \n",
    "  \n",
    "    matrix = (int **)malloc(sizeof(int *) * nrow + sizeof(int) * ncol * nrow); \n",
    "    row = (int *)(matrix + nrow); \n",
    "    for(i = 0; i < nrow; i++) \n",
    "        matrix[i] = (row + ncol * i); \n",
    "\n",
    "    return matrix;\n",
    "}\n",
    "\n",
    "double ** alloc_dmatrix(int ncol, int nrow) {\n",
    "    double *row;\n",
    "    double **matrix; \n",
    "    int i; \n",
    "  \n",
    "    matrix = (double **)malloc(sizeof(double *) * nrow + sizeof(double) * ncol * nrow); \n",
    "    row = (double *)(matrix + nrow); \n",
    "    for(i = 0; i < nrow; i++) \n",
    "        matrix[i] = (row + ncol * i); \n",
    "\n",
    "    return matrix;\n",
    "}\n",
    "\n",
    "\n",
    "\n",
    "int main(int argc, char ** argv) {\n",
    "    int i,j;\n",
    "    int ** a = alloc_imatrix(N,N);\n",
    "\tint mode=-1;\n",
    "    clock_t start,end;\n",
    "    double elapsed_time;\n",
    "\n",
    "    printf(\"USAGE: arraystride 0|1\\n  0 = inner loop is j\\n  1 = inner loop is i\\n\");\n",
    "    if(argc>1) {\n",
    "        sscanf(argv[1],\"%d\",&mode);\n",
    "        printf(\"EXAMPLE: Striding 2D array row-column or column-row.\\n\");\n",
    "\n",
    "        printf(\"Running with mode %d\\n\",mode);\n",
    "    } else {\n",
    "        printf(\"Please provide a command line argument\\n\");\n",
    "    }\n",
    "\n",
    "    start = clock();\n",
    "    if(mode==0) {\n",
    "\t\tfor(i=0;i<N;i+=1) {\n",
    "\t\t\tfor(j=0;j<N;j+=1) {\n",
    "\t\t\t\ta[i][j] = i;\n",
    "\t\t\t}\n",
    "\t\t}\n",
    "\t} else if(mode==1) {\n",
    "\t    for(j=0;j<N;j+=1) {\n",
    "\t\t\tfor(i=0;i<N;i+=1) {\n",
    "\t\t\t\ta[i][j] = i;\n",
    "\t\t\t}\n",
    "\t\t}\n",
    "\t} else {\n",
    "        printf(\"ERROR: INVALID MODE ENTERED\\n\");\n",
    "    }\n",
    "    end = clock();\n",
    "    elapsed_time = (end-start)/(double)CLOCKS_PER_SEC;\n",
    "    printf(\"Elapsed Time = %lf\\n\",elapsed_time);\n",
    "\n",
    "    free(a);\n",
    "}\n"
   ]
  },
  {
   "cell_type": "code",
   "execution_count": 3,
   "metadata": {
    "colab": {},
    "colab_type": "code",
    "id": "lgx8rNjPj81J"
   },
   "outputs": [],
   "source": [
    "!gcc -O0 -o arraystride arraystride.c"
   ]
  },
  {
   "cell_type": "code",
   "execution_count": 4,
   "metadata": {
    "colab": {
     "base_uri": "https://localhost:8080/",
     "height": 122
    },
    "colab_type": "code",
    "id": "JsJjtCl2kB56",
    "outputId": "83dc5613-4b14-4152-f473-9ac640dcd493"
   },
   "outputs": [
    {
     "name": "stdout",
     "output_type": "stream",
     "text": [
      "USAGE: arraystride 0|1\n",
      "  0 = inner loop is j\n",
      "  1 = inner loop is i\n",
      "EXAMPLE: Striding 2D array row-column or column-row.\n",
      "Running with mode 0\n",
      "Elapsed Time = 0.563679\n"
     ]
    }
   ],
   "source": [
    "!./arraystride 0"
   ]
  },
  {
   "cell_type": "code",
   "execution_count": 5,
   "metadata": {
    "colab": {
     "base_uri": "https://localhost:8080/",
     "height": 122
    },
    "colab_type": "code",
    "id": "s254NXy7kFfH",
    "outputId": "c31b48e7-346c-4450-cf19-fef32aa16997"
   },
   "outputs": [
    {
     "name": "stdout",
     "output_type": "stream",
     "text": [
      "USAGE: arraystride 0|1\n",
      "  0 = inner loop is j\n",
      "  1 = inner loop is i\n",
      "EXAMPLE: Striding 2D array row-column or column-row.\n",
      "Running with mode 1\n",
      "Elapsed Time = 1.601648\n"
     ]
    }
   ],
   "source": [
    "!./arraystride 1"
   ]
  },
  {
   "cell_type": "code",
   "execution_count": 6,
   "metadata": {
    "colab": {
     "base_uri": "https://localhost:8080/",
     "height": 34
    },
    "colab_type": "code",
    "id": "CrptQwwyvZIn",
    "outputId": "66852f5f-289a-4746-d4c7-622dc795a5c3"
   },
   "outputs": [
    {
     "name": "stdout",
     "output_type": "stream",
     "text": [
      "Writing unitstride.c\n"
     ]
    }
   ],
   "source": [
    "%%writefile unitstride.c\n",
    "/* Blue Waters Petascale Semester Curriculum v1.0\n",
    " * Unit 9: Optimization\n",
    " * Lesson 2: Code Optimization Patterns\n",
    " * File: unitstride.c\n",
    " * Developed by David A. Joiner for the Shodor Education Foundation, Inc.\n",
    " *\n",
    " * Copyright (c) 2020 The Shodor Education Foundation, Inc.\n",
    " *\n",
    " * Browse and search the full curriculum at\n",
    " * <http://shodor.org/petascale/materials/semester-curriculum>.\n",
    " *\n",
    " * We welcome your improvements! You can submit your proposed changes to this\n",
    " * material and the rest of the curriculum in our GitHub repository at\n",
    " * <https://github.com/shodor-education/petascale-semester-curriculum>.\n",
    " *\n",
    " * We want to hear from you! Please let us know your experiences using this\n",
    " * material by sending email to petascale@shodor.org\n",
    " *\n",
    " * This program is free software: you can redistribute it and/or modify\n",
    " * it under the terms of the GNU Affero General Public License as published\n",
    " * by the Free Software Foundation, either version 3 of the License, or\n",
    " * (at your option) any later version.\n",
    " *\n",
    " * This program is distributed in the hope that it will be useful,\n",
    " * but WITHOUT ANY WARRANTY; without even the implied warranty of\n",
    " * MERCHANTABILITY or FITNESS FOR A PARTICULAR PURPOSE.  See the\n",
    " * GNU Affero General Public License for more details.\n",
    " *\n",
    " * You should have received a copy of the GNU Affero General Public License\n",
    " * along with this program.  If not, see <https://www.gnu.org/licenses/>.\n",
    " */\n",
    "\n",
    "#include <stdio.h>\n",
    "#include <time.h>\n",
    "#include <stdlib.h>\n",
    "#define N 100000000\n",
    "\n",
    "int main(int argc, char ** argv) {\n",
    "    int i,j;\n",
    "    int *a = (int *)malloc(sizeof(int)*N);\n",
    "\tint stride=1;\n",
    "    int repeat=10;\n",
    "    clock_t start,end;\n",
    "    double elapsed_time;\n",
    "    int Nstop;\n",
    "\n",
    "    printf(\"USAGE: unitstride N\\n  N = stridelength\\n\");\n",
    "    if(argc>1) {\n",
    "        sscanf(argv[1],\"%d\",&stride);\n",
    "        printf(\"EXAMPLE: striding through array\\n\");\n",
    "        printf(\"Running with stride %d\\n\",stride);\n",
    "    }else {\n",
    "        printf(\"Please provide a command line argument\\n\");\n",
    "    }\n",
    "\n",
    "    start = clock() ;\n",
    "\n",
    "    for(j=0;j<repeat;j+=1) \n",
    "        for(i=0;i<N;i+=stride) {\n",
    "            a[i] = i;\n",
    "        }\n",
    "    end = clock() ;\n",
    "    elapsed_time = (end-start)/(double)CLOCKS_PER_SEC ;\n",
    "    \n",
    "    Nstop = 0;\n",
    "    for(i=0;i<N;i+=stride) Nstop++;\n",
    "\n",
    "    printf(\"Time doing %d items of work with stride of %d = %lf\\n\",Nstop,stride,elapsed_time);\n",
    "\n",
    "\n",
    "\n",
    "    start = clock() ;\n",
    "    for(j=0;j<repeat;j+=1) \n",
    "        for(i=0;i<Nstop;i+=1) {\n",
    "            a[i] = i;\n",
    "        }\n",
    "    end = clock() ;\n",
    "    elapsed_time = (end-start)/(double)CLOCKS_PER_SEC ;\n",
    "\n",
    "    printf(\"Time doing %d items of work with stride of 1 = %lf\\n\",Nstop,elapsed_time);\n",
    "\n",
    "    free(a);\n",
    "}\n",
    "\n"
   ]
  },
  {
   "cell_type": "code",
   "execution_count": 7,
   "metadata": {
    "colab": {},
    "colab_type": "code",
    "id": "YLiyQJ9Uvab-"
   },
   "outputs": [],
   "source": [
    "!gcc -o unitstride unitstride.c\n"
   ]
  },
  {
   "cell_type": "code",
   "execution_count": 8,
   "metadata": {
    "colab": {
     "base_uri": "https://localhost:8080/",
     "height": 122
    },
    "colab_type": "code",
    "id": "zdPbZqwTvbhE",
    "outputId": "c6a47b3d-965c-4297-c566-121dede3a299"
   },
   "outputs": [
    {
     "name": "stdout",
     "output_type": "stream",
     "text": [
      "USAGE: unitstride N\n",
      "  N = stridelength\n",
      "EXAMPLE: striding through array\n",
      "Running with stride 1000\n",
      "Time doing 100000 items of work with stride of 1000 = 0.182734\n",
      "Time doing 100000 items of work with stride of 1 = 0.002162\n"
     ]
    }
   ],
   "source": [
    "!./unitstride 1000"
   ]
  },
  {
   "cell_type": "code",
   "execution_count": 9,
   "metadata": {
    "colab": {
     "base_uri": "https://localhost:8080/",
     "height": 34
    },
    "colab_type": "code",
    "id": "Noaa57lzvupy",
    "outputId": "bbeb8a9e-fda1-4d7e-e2e5-b64cb19134f6"
   },
   "outputs": [
    {
     "name": "stdout",
     "output_type": "stream",
     "text": [
      "Writing loopcondition.c\n"
     ]
    }
   ],
   "source": [
    "%%writefile loopcondition.c\n",
    "/* Blue Waters Petascale Semester Curriculum v1.0\n",
    " * Unit 9: Optimization\n",
    " * Lesson 2: Code Optimization Patterns\n",
    " * File: loopcondition.c\n",
    " * Developed by David A. Joiner for the Shodor Education Foundation, Inc.\n",
    " *\n",
    " * Copyright (c) 2020 The Shodor Education Foundation, Inc.\n",
    " *\n",
    " * Browse and search the full curriculum at\n",
    " * <http://shodor.org/petascale/materials/semester-curriculum>.\n",
    " *\n",
    " * We welcome your improvements! You can submit your proposed changes to this\n",
    " * material and the rest of the curriculum in our GitHub repository at\n",
    " * <https://github.com/shodor-education/petascale-semester-curriculum>.\n",
    " *\n",
    " * We want to hear from you! Please let us know your experiences using this\n",
    " * material by sending email to petascale@shodor.org\n",
    " *\n",
    " * This program is free software: you can redistribute it and/or modify\n",
    " * it under the terms of the GNU Affero General Public License as published\n",
    " * by the Free Software Foundation, either version 3 of the License, or\n",
    " * (at your option) any later version.\n",
    " *\n",
    " * This program is distributed in the hope that it will be useful,\n",
    " * but WITHOUT ANY WARRANTY; without even the implied warranty of\n",
    " * MERCHANTABILITY or FITNESS FOR A PARTICULAR PURPOSE.  See the\n",
    " * GNU Affero General Public License for more details.\n",
    " *\n",
    " * You should have received a copy of the GNU Affero General Public License\n",
    " * along with this program.  If not, see <https://www.gnu.org/licenses/>.\n",
    " */\n",
    "\n",
    "#include <stdio.h>\n",
    "#include <stdlib.h>\n",
    "#include <time.h>\n",
    "\n",
    "  \n",
    "#define N 100000000\n",
    "\n",
    "int main(int argc, char ** argv) {\n",
    "    int i;\n",
    "    int *a = (int *)malloc(sizeof(int)*N);\n",
    "    int nm = N-1;\n",
    "    int mode=0;\n",
    "    clock_t start,end;\n",
    "    double elapsed_time;\n",
    "\n",
    "    printf(\"USAGE: loopcondition 0|1\\n  0=no if in loop\\n  1=if in loop\\n\");\n",
    "    if(argc>1) {\n",
    "        sscanf(argv[1],\"%d\",&mode);\n",
    "        printf(\"EXAMPLE: Condition inside or outside of loop\\n\");\n",
    "        printf(\"Running with mode %d\\n\",mode);\n",
    "    } else {\n",
    "        printf(\"Please provide a command line argument\\n\");\n",
    "    }\n",
    "    \n",
    "\n",
    "    start = clock();\n",
    "    if(mode==0) {\n",
    "        // no conditions in loop\n",
    "        a[0]=0;\n",
    "        for(i=1;i<nm;i++) {\n",
    "            a[i]=i;\n",
    "        }\n",
    "        a[nm]=0;\n",
    "    } else {\n",
    "        // conditions in loop\n",
    "        for(i=0;i<N;i++) {\n",
    "            if(i==0) a[i]=0;\n",
    "            else if(i==N-1) a[i]=0;\n",
    "            else a[i]=i;\n",
    "        }\n",
    "    }\n",
    "    end = clock();\n",
    "    elapsed_time = (end-start)/(double)CLOCKS_PER_SEC;\n",
    "    printf(\"Elapsed Time = %lf\\n\",elapsed_time);\n",
    "\n",
    "    free(a);\n",
    "}\n"
   ]
  },
  {
   "cell_type": "code",
   "execution_count": 10,
   "metadata": {
    "colab": {},
    "colab_type": "code",
    "id": "Osxy22tYvv6z"
   },
   "outputs": [],
   "source": [
    "!gcc -O0 -o loopcondition loopcondition.c\n"
   ]
  },
  {
   "cell_type": "code",
   "execution_count": 11,
   "metadata": {
    "colab": {
     "base_uri": "https://localhost:8080/",
     "height": 122
    },
    "colab_type": "code",
    "id": "7Xsl9rzivw4d",
    "outputId": "b4027c34-cde7-4ed1-ae47-c6afa1b549df"
   },
   "outputs": [
    {
     "name": "stdout",
     "output_type": "stream",
     "text": [
      "USAGE: loopcondition 0|1\n",
      "  0=no if in loop\n",
      "  1=if in loop\n",
      "EXAMPLE: Condition inside or outside of loop\n",
      "Running with mode 0\n",
      "Elapsed Time = 0.378818\n"
     ]
    }
   ],
   "source": [
    "!./loopcondition 0\n"
   ]
  },
  {
   "cell_type": "code",
   "execution_count": 12,
   "metadata": {
    "colab": {
     "base_uri": "https://localhost:8080/",
     "height": 122
    },
    "colab_type": "code",
    "id": "Z5-d4F6dvx1_",
    "outputId": "6bdb29c4-0fa4-4648-f05a-ec6c9f780f64"
   },
   "outputs": [
    {
     "name": "stdout",
     "output_type": "stream",
     "text": [
      "USAGE: loopcondition 0|1\n",
      "  0=no if in loop\n",
      "  1=if in loop\n",
      "EXAMPLE: Condition inside or outside of loop\n",
      "Running with mode 1\n",
      "Elapsed Time = 0.475306\n"
     ]
    }
   ],
   "source": [
    "!./loopcondition 1"
   ]
  },
  {
   "cell_type": "code",
   "execution_count": 13,
   "metadata": {
    "colab": {
     "base_uri": "https://localhost:8080/",
     "height": 34
    },
    "colab_type": "code",
    "id": "YMd8zfE2wgfd",
    "outputId": "bdba400d-c3d7-4af3-be19-bb7dad5f7b7c"
   },
   "outputs": [
    {
     "name": "stdout",
     "output_type": "stream",
     "text": [
      "Writing loopinvariantcode.c\n"
     ]
    }
   ],
   "source": [
    "%%writefile loopinvariantcode.c\n",
    "/* Blue Waters Petascale Semester Curriculum v1.0\n",
    " * Unit 9: Optimization\n",
    " * Lesson 2: Code Optimization Patterns\n",
    " * File: loopinvariantcode.c\n",
    " * Developed by David A. Joiner for the Shodor Education Foundation, Inc.\n",
    " *\n",
    " * Copyright (c) 2020 The Shodor Education Foundation, Inc.\n",
    " *\n",
    " * Browse and search the full curriculum at\n",
    " * <http://shodor.org/petascale/materials/semester-curriculum>.\n",
    " *\n",
    " * We welcome your improvements! You can submit your proposed changes to this\n",
    " * material and the rest of the curriculum in our GitHub repository at\n",
    " * <https://github.com/shodor-education/petascale-semester-curriculum>.\n",
    " *\n",
    " * We want to hear from you! Please let us know your experiences using this\n",
    " * material by sending email to petascale@shodor.org\n",
    " *\n",
    " * This program is free software: you can redistribute it and/or modify\n",
    " * it under the terms of the GNU Affero General Public License as published\n",
    " * by the Free Software Foundation, either version 3 of the License, or\n",
    " * (at your option) any later version.\n",
    " *\n",
    " * This program is distributed in the hope that it will be useful,\n",
    " * but WITHOUT ANY WARRANTY; without even the implied warranty of\n",
    " * MERCHANTABILITY or FITNESS FOR A PARTICULAR PURPOSE.  See the\n",
    " * GNU Affero General Public License for more details.\n",
    " *\n",
    " * You should have received a copy of the GNU Affero General Public License\n",
    " * along with this program.  If not, see <https://www.gnu.org/licenses/>.\n",
    " */\n",
    "\n",
    "#include <stdio.h>\n",
    "#include <stdlib.h>\n",
    "#include <time.h>\n",
    "\n",
    "    \n",
    "#define N 100000000\n",
    "\n",
    "int main(int argc, char ** argv) {\n",
    "    int i;\n",
    "    int j,k;\n",
    "    int *a = (int *)malloc(sizeof(int)*N);\n",
    "\tint mode=-1;\n",
    "    clock_t start,end;\n",
    "    double elapsed_time;\n",
    "\n",
    "    printf(\"USAGE: loopinvariantcode 0|1\\n  0=invariant in loop\\n  1=invariant outside loop\\n\");\n",
    "    if(argc>1) {\n",
    "        sscanf(argv[1],\"%d\",&mode);\n",
    "\t\t\t\tprintf(\"EXAMPLE: Loop invariant code inside or outside of loop\\n\");\n",
    "        printf(\"Running with mode %d\\n\",mode);\n",
    "    } else {\n",
    "        printf(\"Please provide a command line argument\\n\");\n",
    "    }\n",
    "\n",
    "    start = clock();\n",
    "\tif(mode==0) {\n",
    "\t\tfor(i=0;i<N;i+=1) {\n",
    "\t\t\tj=7;\n",
    "\t\t\tk=3;\n",
    "\t\t\ta[i] = i*j*k;\n",
    "\t\t}\n",
    "\t} else if(mode==1) {\n",
    "\t\tj=7;\n",
    "\t\tk=3;\n",
    "\t\tfor(i=0;i<N;i+=1) {\n",
    "\t\t\ta[i] = i*j*k;\n",
    "\t\t}\n",
    "\t} else {\n",
    "\t    printf(\"ERROR: INVALID MODE ENTERED\\n\");\n",
    "\t}\n",
    "    end = clock();\n",
    "    elapsed_time = (end-start)/(double)CLOCKS_PER_SEC;\n",
    "    printf(\"Elapsed Time = %lf\\n\",elapsed_time);\n",
    "    \n",
    "    free(a);\n",
    "}\n",
    "\n"
   ]
  },
  {
   "cell_type": "code",
   "execution_count": 14,
   "metadata": {
    "colab": {},
    "colab_type": "code",
    "id": "nj9Zc9Aqwh4T"
   },
   "outputs": [],
   "source": [
    "!gcc -O0 -o loopinvariantcode loopinvariantcode.c\n"
   ]
  },
  {
   "cell_type": "code",
   "execution_count": 15,
   "metadata": {
    "colab": {
     "base_uri": "https://localhost:8080/",
     "height": 122
    },
    "colab_type": "code",
    "id": "YxJQEBOqwi6t",
    "outputId": "72a52b00-b5f1-4eac-f98a-1f95cb1559be"
   },
   "outputs": [
    {
     "name": "stdout",
     "output_type": "stream",
     "text": [
      "USAGE: loopinvariantcode 0|1\n",
      "  0=invariant in loop\n",
      "  1=invariant outside loop\n",
      "EXAMPLE: Loop invariant code inside or outside of loop\n",
      "Running with mode 0\n",
      "Elapsed Time = 0.451991\n"
     ]
    }
   ],
   "source": [
    "!./loopinvariantcode 0\n"
   ]
  },
  {
   "cell_type": "code",
   "execution_count": 16,
   "metadata": {
    "colab": {
     "base_uri": "https://localhost:8080/",
     "height": 122
    },
    "colab_type": "code",
    "id": "gE1RZiY2wkK4",
    "outputId": "9fe128e1-5f05-46ab-a230-1cf181065de0"
   },
   "outputs": [
    {
     "name": "stdout",
     "output_type": "stream",
     "text": [
      "USAGE: loopinvariantcode 0|1\n",
      "  0=invariant in loop\n",
      "  1=invariant outside loop\n",
      "EXAMPLE: Loop invariant code inside or outside of loop\n",
      "Running with mode 1\n",
      "Elapsed Time = 0.457057\n"
     ]
    }
   ],
   "source": [
    "!./loopinvariantcode 1"
   ]
  },
  {
   "cell_type": "code",
   "execution_count": 17,
   "metadata": {
    "colab": {
     "base_uri": "https://localhost:8080/",
     "height": 34
    },
    "colab_type": "code",
    "id": "V72pj2brkSJk",
    "outputId": "a469e50d-2400-4933-8857-7f5fb2b797f3"
   },
   "outputs": [
    {
     "name": "stdout",
     "output_type": "stream",
     "text": [
      "Writing strengthred.c\n"
     ]
    }
   ],
   "source": [
    "%%writefile strengthred.c\n",
    "/* Blue Waters Petascale Semester Curriculum v1.0\n",
    " * Unit 9: Optimization\n",
    " * Lesson 2: Code Optimization Patterns\n",
    " * File: strengthred.c\n",
    " * Developed by David A. Joiner for the Shodor Education Foundation, Inc.\n",
    " *\n",
    " * Copyright (c) 2020 The Shodor Education Foundation, Inc.\n",
    " *\n",
    " * Browse and search the full curriculum at\n",
    " * <http://shodor.org/petascale/materials/semester-curriculum>.\n",
    " *\n",
    " * We welcome your improvements! You can submit your proposed changes to this\n",
    " * material and the rest of the curriculum in our GitHub repository at\n",
    " * <https://github.com/shodor-education/petascale-semester-curriculum>.\n",
    " *\n",
    " * We want to hear from you! Please let us know your experiences using this\n",
    " * material by sending email to petascale@shodor.org\n",
    " *\n",
    " * This program is free software: you can redistribute it and/or modify\n",
    " * it under the terms of the GNU Affero General Public License as published\n",
    " * by the Free Software Foundation, either version 3 of the License, or\n",
    " * (at your option) any later version.\n",
    " *\n",
    " * This program is distributed in the hope that it will be useful,\n",
    " * but WITHOUT ANY WARRANTY; without even the implied warranty of\n",
    " * MERCHANTABILITY or FITNESS FOR A PARTICULAR PURPOSE.  See the\n",
    " * GNU Affero General Public License for more details.\n",
    " *\n",
    " * You should have received a copy of the GNU Affero General Public License\n",
    " * along with this program.  If not, see <https://www.gnu.org/licenses/>.\n",
    " */\n",
    "\n",
    "#include <stdio.h>\n",
    "#include <math.h> //COMPILE WITH -lm OPTION!!!\n",
    "#include <time.h>\n",
    "#include <stdlib.h>\n",
    "\n",
    "#define N 100000000\n",
    "\n",
    "int main(int argc, char ** argv) {\n",
    "    int i;\n",
    "    double *a = (double *)malloc(sizeof(double)*N);\n",
    "\tint mode=-1;\n",
    "    clock_t start,end;\n",
    "    double elapsed_time;\n",
    "\n",
    "    printf(\"USAGE: strengthred 0|1\\n  0=pow(i,2)\\n  1=i*i\\n\");\n",
    "    if(argc>1) {\n",
    "        sscanf(argv[1],\"%d\",&mode);\n",
    "        printf(\"EXAMPLE: strength reduction, x*x or pow(x,2)\\n\");\n",
    "        printf(\"Running with mode %d\\n\",mode);\n",
    "    } else {\n",
    "        printf(\"Please provide a command line argument\\n\");\n",
    "    }\n",
    "\n",
    "    start = clock();\n",
    "\tif(mode==0) {\n",
    "\t\tfor(i=0;i<N;i+=1) {\n",
    "\t\t\ta[i] = pow((double)i,2.0);\n",
    "\t\t}\n",
    "\t} else if(mode==1) {\n",
    "\t\tfor(i=0;i<N;i+=1) {\n",
    "\t\t\ta[i] = (double)i*(double)i;\n",
    "\t\t}\n",
    "\t} else {\n",
    "\t\tprintf(\"ERROR: INVALID MODE ENTERED\\n\");\n",
    "\t}\n",
    "    end = clock();\n",
    "    elapsed_time = (end-start)/(double)CLOCKS_PER_SEC;\n",
    "    printf(\"Elapsed Time = %lf\\n\",elapsed_time);\n",
    "\n",
    "    free(a);    \n",
    "}\n"
   ]
  },
  {
   "cell_type": "code",
   "execution_count": 18,
   "metadata": {
    "colab": {},
    "colab_type": "code",
    "id": "_FgrTtnawfFi"
   },
   "outputs": [],
   "source": [
    "!gcc -O0 -o strengthred strengthred.c -lm\n"
   ]
  },
  {
   "cell_type": "code",
   "execution_count": 19,
   "metadata": {
    "colab": {
     "base_uri": "https://localhost:8080/",
     "height": 122
    },
    "colab_type": "code",
    "id": "3gGrT9Z6oQGr",
    "outputId": "507b5cfd-b2af-414a-938d-755da6a20cfe"
   },
   "outputs": [
    {
     "name": "stdout",
     "output_type": "stream",
     "text": [
      "USAGE: strengthred 0|1\n",
      "  0=pow(i,2)\n",
      "  1=i*i\n",
      "EXAMPLE: strength reduction, x*x or pow(x,2)\n",
      "Running with mode 0\n",
      "Elapsed Time = 1.451170\n"
     ]
    }
   ],
   "source": [
    "!./strengthred 0\n"
   ]
  },
  {
   "cell_type": "code",
   "execution_count": 20,
   "metadata": {
    "colab": {
     "base_uri": "https://localhost:8080/",
     "height": 122
    },
    "colab_type": "code",
    "id": "P0Osh_6gocHQ",
    "outputId": "83d28615-ce3a-4498-ea82-214b3211e336"
   },
   "outputs": [
    {
     "name": "stdout",
     "output_type": "stream",
     "text": [
      "USAGE: strengthred 0|1\n",
      "  0=pow(i,2)\n",
      "  1=i*i\n",
      "EXAMPLE: strength reduction, x*x or pow(x,2)\n",
      "Running with mode 1\n",
      "Elapsed Time = 0.636081\n"
     ]
    }
   ],
   "source": [
    "!./strengthred 1"
   ]
  },
  {
   "cell_type": "code",
   "execution_count": 21,
   "metadata": {
    "colab": {
     "base_uri": "https://localhost:8080/",
     "height": 34
    },
    "colab_type": "code",
    "id": "ObTabTH7s3l4",
    "outputId": "3a4702eb-12aa-48b2-a9df-36109956137e"
   },
   "outputs": [
    {
     "name": "stdout",
     "output_type": "stream",
     "text": [
      "Writing inlining.c\n"
     ]
    }
   ],
   "source": [
    "%%writefile inlining.c\n",
    "/* Blue Waters Petascale Semester Curriculum v1.0\n",
    " * Unit 9: Optimization\n",
    " * Lesson 2: Code Optimization Patterns\n",
    " * File: inlining.c\n",
    " * Developed by David A. Joiner for the Shodor Education Foundation, Inc.\n",
    " *\n",
    " * Copyright (c) 2020 The Shodor Education Foundation, Inc.\n",
    " *\n",
    " * Browse and search the full curriculum at\n",
    " * <http://shodor.org/petascale/materials/semester-curriculum>.\n",
    " *\n",
    " * We welcome your improvements! You can submit your proposed changes to this\n",
    " * material and the rest of the curriculum in our GitHub repository at\n",
    " * <https://github.com/shodor-education/petascale-semester-curriculum>.\n",
    " *\n",
    " * We want to hear from you! Please let us know your experiences using this\n",
    " * material by sending email to petascale@shodor.org\n",
    " *\n",
    " * This program is free software: you can redistribute it and/or modify\n",
    " * it under the terms of the GNU Affero General Public License as published\n",
    " * by the Free Software Foundation, either version 3 of the License, or\n",
    " * (at your option) any later version.\n",
    " *\n",
    " * This program is distributed in the hope that it will be useful,\n",
    " * but WITHOUT ANY WARRANTY; without even the implied warranty of\n",
    " * MERCHANTABILITY or FITNESS FOR A PARTICULAR PURPOSE.  See the\n",
    " * GNU Affero General Public License for more details.\n",
    " *\n",
    " * You should have received a copy of the GNU Affero General Public License\n",
    " * along with this program.  If not, see <https://www.gnu.org/licenses/>.\n",
    " */\n",
    "\n",
    "#include <stdio.h>\n",
    "#include <stdlib.h>\n",
    "#include <time.h>\n",
    "\n",
    "\n",
    "#define macro_avg(x,y) ((x)+(y))/2\n",
    "#define N 100000000\n",
    "\n",
    "int func_avg(int x, int y) {\n",
    "    return (x+y)/2;\n",
    "}\n",
    "\n",
    "int main(int argc, char ** argv) {\n",
    "    int i;\n",
    "    int * a = (int *)malloc(sizeof(int)*N);\n",
    "\tint mode=-1;\n",
    "    clock_t start,end;\n",
    "    double elapsed_time;\n",
    "\n",
    "    printf(\"USAGE: inlining 0|1\\n  0=use standard function\\n  1=use macro\\n\");\n",
    "    if(argc>1) {\n",
    "        sscanf(argv[1],\"%d\",&mode);\n",
    "        printf(\"EXAMPLE: Inlining functions.\");\n",
    "        printf(\"Running with mode %d\\n\",mode);\n",
    "    } else {\n",
    "        printf(\"Please provide a command line argument\\n\");\n",
    "    }\n",
    "    \n",
    "\t\n",
    "    start = clock();\n",
    "    if(mode==0) {\n",
    "\t\tfor(i=0;i<N;i++) {\n",
    "            a[i] = func_avg(i,1);\n",
    "        }\n",
    "\t} else if(mode==1) {\n",
    "\t\tfor(i=0;i<N;i++) {\n",
    "            a[i] = macro_avg(i,1);\n",
    "        }\n",
    "\t} else {\n",
    "        printf(\"ERROR: INVALID MODE ENTERED\\n\");\n",
    "    }\n",
    "    end = clock();\n",
    "    elapsed_time = (end-start)/(double)CLOCKS_PER_SEC;\n",
    "    printf(\"Elapsed Time = %lf\\n\",elapsed_time);\n",
    "\n",
    "    free(a);\n",
    "}\n"
   ]
  },
  {
   "cell_type": "code",
   "execution_count": 22,
   "metadata": {
    "colab": {},
    "colab_type": "code",
    "id": "w_LjR0Zks-Al"
   },
   "outputs": [],
   "source": [
    "!gcc -O0 -o inlining inlining.c\n"
   ]
  },
  {
   "cell_type": "code",
   "execution_count": 23,
   "metadata": {
    "colab": {
     "base_uri": "https://localhost:8080/",
     "height": 105
    },
    "colab_type": "code",
    "id": "CqRJh5rItA6g",
    "outputId": "2182f5cf-817a-4896-96ce-7ae212a57c54"
   },
   "outputs": [
    {
     "name": "stdout",
     "output_type": "stream",
     "text": [
      "USAGE: inlining 0|1\n",
      "  0=use standard function\n",
      "  1=use macro\n",
      "EXAMPLE: Inlining functions.Running with mode 0\n",
      "Elapsed Time = 0.522163\n"
     ]
    }
   ],
   "source": [
    "!./inlining 0\n"
   ]
  },
  {
   "cell_type": "code",
   "execution_count": 24,
   "metadata": {
    "colab": {
     "base_uri": "https://localhost:8080/",
     "height": 105
    },
    "colab_type": "code",
    "id": "HBrCCmPz1c2z",
    "outputId": "1b4ddc9d-e1b4-443d-9086-ef5f387dddd5"
   },
   "outputs": [
    {
     "name": "stdout",
     "output_type": "stream",
     "text": [
      "USAGE: inlining 0|1\n",
      "  0=use standard function\n",
      "  1=use macro\n",
      "EXAMPLE: Inlining functions.Running with mode 1\n",
      "Elapsed Time = 0.464151\n"
     ]
    }
   ],
   "source": [
    "!./inlining 1"
   ]
  },
  {
   "cell_type": "code",
   "execution_count": 25,
   "metadata": {
    "colab": {
     "base_uri": "https://localhost:8080/",
     "height": 34
    },
    "colab_type": "code",
    "id": "dkPsmrWXfAnG",
    "outputId": "7811310d-4bca-4ae5-e1c3-5a8410c8842a"
   },
   "outputs": [
    {
     "name": "stdout",
     "output_type": "stream",
     "text": [
      "Writing arrayfunc.c\n"
     ]
    }
   ],
   "source": [
    "%%writefile arrayfunc.c\n",
    "/* Blue Waters Petascale Semester Curriculum v1.0\n",
    " * Unit 9: Optimization\n",
    " * Lesson 2: Code Optimization Patterns\n",
    " * File: arrayfunc.c\n",
    " * Developed by David A. Joiner for the Shodor Education Foundation, Inc.\n",
    " *\n",
    " * Copyright (c) 2020 The Shodor Education Foundation, Inc.\n",
    " *\n",
    " * Browse and search the full curriculum at\n",
    " * <http://shodor.org/petascale/materials/semester-curriculum>.\n",
    " *\n",
    " * We welcome your improvements! You can submit your proposed changes to this\n",
    " * material and the rest of the curriculum in our GitHub repository at\n",
    " * <https://github.com/shodor-education/petascale-semester-curriculum>.\n",
    " *\n",
    " * We want to hear from you! Please let us know your experiences using this\n",
    " * material by sending email to petascale@shodor.org\n",
    " *\n",
    " * This program is free software: you can redistribute it and/or modify\n",
    " * it under the terms of the GNU Affero General Public License as published\n",
    " * by the Free Software Foundation, either version 3 of the License, or\n",
    " * (at your option) any later version.\n",
    " *\n",
    " * This program is distributed in the hope that it will be useful,\n",
    " * but WITHOUT ANY WARRANTY; without even the implied warranty of\n",
    " * MERCHANTABILITY or FITNESS FOR A PARTICULAR PURPOSE.  See the\n",
    " * GNU Affero General Public License for more details.\n",
    " *\n",
    " * You should have received a copy of the GNU Affero General Public License\n",
    " * along with this program.  If not, see <https://www.gnu.org/licenses/>.\n",
    " */\n",
    "\n",
    "#include <stdio.h>\n",
    "#include <time.h>\n",
    "#include <stdlib.h>\n",
    "\n",
    "#define N 200000000\n",
    "\n",
    "int func(int x) {\n",
    "    return x*x;\n",
    "}\n",
    "void afunc(int *a) {\n",
    "    int i;\n",
    "    for(i=0;i<N;i++) a[i] = i*i;\n",
    "}\n",
    "\n",
    "int main(int argc, char ** argv) {\n",
    "    int i;\n",
    "    int * a = (int *)malloc(sizeof(int)*N);\n",
    "    int mode=-1;\n",
    "    clock_t start,end;\n",
    "    double elapsed_time;\n",
    "\n",
    "    printf(\"USAGE: arrayfunc 0|1\\n  0=pass scalar to function within loop\\n  1=pass array to function, function contains loop\\n\");\n",
    "    fflush(stdout);\n",
    "\n",
    "    if(argc>1) {\n",
    "        sscanf(argv[1],\"%d\",&mode);\n",
    "        printf(\"EXAMPLE: Passing arrays to functions or calling functions on elements of arrays.\");\n",
    "        printf(\"Running with mode %d\\n\",mode);\n",
    "    } else {\n",
    "        printf(\"Please provide a command line argument\\n\");\n",
    "    }\n",
    "\n",
    "    start = clock();\n",
    "    if(mode==0) {\n",
    "        for(i=0;i<N;i++) {\n",
    "            a[i]=func(i);\n",
    "        }\n",
    "    } else if(mode==1) {\n",
    "        afunc(a);\n",
    "    } else {\n",
    "        printf(\"ERROR: INVALID MODE ENTERED\\n\");\n",
    "    }\n",
    "    end = clock();\n",
    "    elapsed_time = (end-start)/(double)CLOCKS_PER_SEC;\n",
    "    printf(\"Elapsed Time = %lf\\n\",elapsed_time);\n",
    "\n",
    "    free(a);\n",
    "}\n"
   ]
  },
  {
   "cell_type": "code",
   "execution_count": 26,
   "metadata": {
    "colab": {},
    "colab_type": "code",
    "id": "b9CVgQppvFwU"
   },
   "outputs": [],
   "source": [
    "!gcc -O0 -o arrayfunc arrayfunc.c \n"
   ]
  },
  {
   "cell_type": "code",
   "execution_count": 27,
   "metadata": {
    "colab": {
     "base_uri": "https://localhost:8080/",
     "height": 105
    },
    "colab_type": "code",
    "id": "VGqdOMuovG0r",
    "outputId": "e47b38b3-f43d-4bff-c72e-2d851be7b214"
   },
   "outputs": [
    {
     "name": "stdout",
     "output_type": "stream",
     "text": [
      "USAGE: arrayfunc 0|1\n",
      "  0=pass scalar to function within loop\n",
      "  1=pass array to function, function contains loop\n",
      "EXAMPLE: Passing arrays to functions or calling functions on elements of arrays.Running with mode 0\n",
      "Elapsed Time = 0.991431\n"
     ]
    }
   ],
   "source": [
    "!./arrayfunc 0\n"
   ]
  },
  {
   "cell_type": "code",
   "execution_count": 28,
   "metadata": {
    "colab": {
     "base_uri": "https://localhost:8080/",
     "height": 105
    },
    "colab_type": "code",
    "id": "0a8D5fdpvIK9",
    "outputId": "d5b9e3c4-1172-4891-d620-5a0bd67b07ec"
   },
   "outputs": [
    {
     "name": "stdout",
     "output_type": "stream",
     "text": [
      "USAGE: arrayfunc 0|1\n",
      "  0=pass scalar to function within loop\n",
      "  1=pass array to function, function contains loop\n",
      "EXAMPLE: Passing arrays to functions or calling functions on elements of arrays.Running with mode 1\n",
      "Elapsed Time = 0.978192\n"
     ]
    }
   ],
   "source": [
    "!./arrayfunc 1"
   ]
  },
  {
   "cell_type": "code",
   "execution_count": 28,
   "metadata": {
    "colab": {},
    "colab_type": "code",
    "id": "PAGoW2bWvIyf"
   },
   "outputs": [],
   "source": []
  }
 ],
 "metadata": {
  "colab": {
   "collapsed_sections": [],
   "name": "Code_Optimization_Practices.ipynb",
   "provenance": []
  },
  "kernelspec": {
   "display_name": "Python 3",
   "language": "python",
   "name": "python3"
  },
  "language_info": {
   "codemirror_mode": {
    "name": "ipython",
    "version": 3
   },
   "file_extension": ".py",
   "mimetype": "text/x-python",
   "name": "python",
   "nbconvert_exporter": "python",
   "pygments_lexer": "ipython3",
   "version": "3.7.4"
  }
 },
 "nbformat": 4,
 "nbformat_minor": 1
}
